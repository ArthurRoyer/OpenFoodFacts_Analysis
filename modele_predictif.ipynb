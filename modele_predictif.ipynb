{
 "cells": [
  {
   "cell_type": "markdown",
   "metadata": {
    "id": "1m4tDFrDm_LV"
   },
   "source": [
    "La **régression** est une technique d'apprentissage supervisé utilisée en statistiques et en apprentissage automatique pour modéliser et analyser les relations entre une variable cible (dépendante) et une ou plusieurs variables indépendantes (ou prédicteurs). L’objectif principal de la régression est de prédire des valeurs continues pour la variable cible en se basant sur les valeurs des variables indépendantes."
   ]
  },
  {
   "cell_type": "markdown",
   "metadata": {},
   "source": [
    "**Installation de scikit-learn**"
   ]
  },
  {
   "cell_type": "code",
   "execution_count": 24,
   "metadata": {},
   "outputs": [
    {
     "name": "stdout",
     "output_type": "stream",
     "text": [
      "Requirement already satisfied: scikit-learn in c:\\users\\utilisateur\\pycharmprojects\\openfoodfacts\\.venv\\lib\\site-packages (1.5.2)\n",
      "Requirement already satisfied: numpy>=1.19.5 in c:\\users\\utilisateur\\pycharmprojects\\openfoodfacts\\.venv\\lib\\site-packages (from scikit-learn) (2.1.2)\n",
      "Requirement already satisfied: scipy>=1.6.0 in c:\\users\\utilisateur\\pycharmprojects\\openfoodfacts\\.venv\\lib\\site-packages (from scikit-learn) (1.14.1)\n",
      "Requirement already satisfied: joblib>=1.2.0 in c:\\users\\utilisateur\\pycharmprojects\\openfoodfacts\\.venv\\lib\\site-packages (from scikit-learn) (1.4.2)\n",
      "Requirement already satisfied: threadpoolctl>=3.1.0 in c:\\users\\utilisateur\\pycharmprojects\\openfoodfacts\\.venv\\lib\\site-packages (from scikit-learn) (3.5.0)\n"
     ]
    },
    {
     "name": "stderr",
     "output_type": "stream",
     "text": [
      "\n",
      "[notice] A new release of pip is available: 23.2.1 -> 24.3.1\n",
      "[notice] To update, run: python.exe -m pip install --upgrade pip\n"
     ]
    }
   ],
   "source": [
    "!pip install scikit-learn"
   ]
  },
  {
   "cell_type": "markdown",
   "metadata": {
    "id": "tjc0arVpnjqf"
   },
   "source": [
    "**Importer l'ensemble de données**"
   ]
  },
  {
   "cell_type": "code",
   "execution_count": 25,
   "metadata": {
    "colab": {
     "base_uri": "https://localhost:8080/"
    },
    "id": "6xgSJ3eZGann",
    "outputId": "c450e70c-278a-4405-d852-1818c0c6c230"
   },
   "outputs": [],
   "source": [
    "import pandas as pd\n",
    "df=pd.read_csv(\"cleaned_data.csv\",sep=',',on_bad_lines='skip', low_memory=False)"
   ]
  },
  {
   "cell_type": "markdown",
   "metadata": {
    "id": "lcg2VnzEnxEA"
   },
   "source": [
    "**Un aperçu des données dans notre DataFrame**"
   ]
  },
  {
   "cell_type": "code",
   "execution_count": 26,
   "metadata": {
    "colab": {
     "base_uri": "https://localhost:8080/"
    },
    "id": "7CecdJ0PLkco",
    "outputId": "3f6ceec1-4ab0-48f8-8f93-a4e449e7d5df"
   },
   "outputs": [
    {
     "name": "stdout",
     "output_type": "stream",
     "text": [
      "<class 'pandas.core.frame.DataFrame'>\n",
      "RangeIndex: 122240 entries, 0 to 122239\n",
      "Data columns (total 25 columns):\n",
      " #   Column                                                 Non-Null Count   Dtype  \n",
      "---  ------                                                 --------------   -----  \n",
      " 0   code                                                   122240 non-null  object \n",
      " 1   product_name                                           119205 non-null  object \n",
      " 2   quantity                                               109931 non-null  object \n",
      " 3   brands                                                 117764 non-null  object \n",
      " 4   categories                                             122240 non-null  object \n",
      " 5   categories_en                                          122240 non-null  object \n",
      " 6   pnns_groups_1                                          122240 non-null  object \n",
      " 7   pnns_groups_2                                          122240 non-null  object \n",
      " 8   main_category_en                                       122240 non-null  object \n",
      " 9   ingredients_text                                       122235 non-null  object \n",
      " 10  nutriscore_score                                       122240 non-null  float64\n",
      " 11  nutriscore_grade                                       122240 non-null  object \n",
      " 12  countries_en                                           122240 non-null  object \n",
      " 13  energy-kj_100g                                         122240 non-null  float64\n",
      " 14  energy-kcal_100g                                       122240 non-null  float64\n",
      " 15  fat_100g                                               122240 non-null  float64\n",
      " 16  saturated-fat_100g                                     122240 non-null  float64\n",
      " 17  sugars_100g                                            122240 non-null  float64\n",
      " 18  fiber_100g                                             122240 non-null  float64\n",
      " 19  proteins_100g                                          122240 non-null  float64\n",
      " 20  salt_100g                                              122240 non-null  float64\n",
      " 21  fruits-vegetables-nuts-estimate-from-ingredients_100g  122240 non-null  float64\n",
      " 22  nutrition-score-fr_100g                                122240 non-null  float64\n",
      " 23  product_name_lower                                     119205 non-null  object \n",
      " 24  brands_lower                                           117764 non-null  object \n",
      "dtypes: float64(11), object(14)\n",
      "memory usage: 23.3+ MB\n"
     ]
    }
   ],
   "source": [
    "df.info()"
   ]
  },
  {
   "cell_type": "markdown",
   "metadata": {
    "id": "U_98_HVTotiH"
   },
   "source": [
    "**Suppresssion des variables de type objet**"
   ]
  },
  {
   "cell_type": "code",
   "execution_count": 27,
   "metadata": {
    "id": "e2rbo3gA_Y8U",
    "scrolled": true
   },
   "outputs": [],
   "source": [
    "df=df.drop(['energy-kj_100g','code','nutrition-score-fr_100g','product_name','quantity','brands','categories','categories_en','pnns_groups_1','main_category_en','ingredients_text','countries_en','nutriscore_grade','product_name_lower','brands_lower'], axis = 1)"
   ]
  },
  {
   "cell_type": "markdown",
   "metadata": {
    "id": "HEdaEwmkpgFM"
   },
   "source": [
    "**Encodage de la variable nutriscore_grade**"
   ]
  },
  {
   "cell_type": "code",
   "execution_count": 28,
   "metadata": {
    "id": "oG4ihpYYLpCH"
   },
   "outputs": [],
   "source": [
    "# Assure-toi d'utiliser le bon nom de colonne\n",
    "\n",
    "try:\n",
    "    df = pd.get_dummies(df, columns=['pnns_groups_2'], drop_first=True)\n",
    "except:\n",
    "    print(df.columns)"
   ]
  },
  {
   "cell_type": "markdown",
   "metadata": {
    "id": "P2RyNQoPptsC"
   },
   "source": [
    "**Affichage des premières lignes**"
   ]
  },
  {
   "cell_type": "code",
   "execution_count": 29,
   "metadata": {
    "colab": {
     "base_uri": "https://localhost:8080/",
     "height": 278
    },
    "id": "UhcXAIrzLpYk",
    "outputId": "b73680ae-fb04-44a2-f154-ba756bdf83bf"
   },
   "outputs": [
    {
     "data": {
      "text/html": [
       "<div>\n",
       "<style scoped>\n",
       "    .dataframe tbody tr th:only-of-type {\n",
       "        vertical-align: middle;\n",
       "    }\n",
       "\n",
       "    .dataframe tbody tr th {\n",
       "        vertical-align: top;\n",
       "    }\n",
       "\n",
       "    .dataframe thead th {\n",
       "        text-align: right;\n",
       "    }\n",
       "</style>\n",
       "<table border=\"1\" class=\"dataframe\">\n",
       "  <thead>\n",
       "    <tr style=\"text-align: right;\">\n",
       "      <th></th>\n",
       "      <th>nutriscore_score</th>\n",
       "      <th>energy-kcal_100g</th>\n",
       "      <th>fat_100g</th>\n",
       "      <th>saturated-fat_100g</th>\n",
       "      <th>sugars_100g</th>\n",
       "      <th>fiber_100g</th>\n",
       "      <th>proteins_100g</th>\n",
       "      <th>salt_100g</th>\n",
       "      <th>fruits-vegetables-nuts-estimate-from-ingredients_100g</th>\n",
       "      <th>pnns_groups_2_Appetizers</th>\n",
       "      <th>...</th>\n",
       "      <th>pnns_groups_2_Salty and fatty products</th>\n",
       "      <th>pnns_groups_2_Sandwiches</th>\n",
       "      <th>pnns_groups_2_Soups</th>\n",
       "      <th>pnns_groups_2_Sweetened beverages</th>\n",
       "      <th>pnns_groups_2_Sweets</th>\n",
       "      <th>pnns_groups_2_Teas and herbal teas and coffees</th>\n",
       "      <th>pnns_groups_2_Unsweetened beverages</th>\n",
       "      <th>pnns_groups_2_Vegetables</th>\n",
       "      <th>pnns_groups_2_Waters and flavored waters</th>\n",
       "      <th>pnns_groups_2_unknown</th>\n",
       "    </tr>\n",
       "  </thead>\n",
       "  <tbody>\n",
       "    <tr>\n",
       "      <th>0</th>\n",
       "      <td>19.0</td>\n",
       "      <td>578.0</td>\n",
       "      <td>40.9</td>\n",
       "      <td>21.5</td>\n",
       "      <td>35.0</td>\n",
       "      <td>8.4</td>\n",
       "      <td>7.5</td>\n",
       "      <td>0.00</td>\n",
       "      <td>12.000000</td>\n",
       "      <td>False</td>\n",
       "      <td>...</td>\n",
       "      <td>False</td>\n",
       "      <td>False</td>\n",
       "      <td>False</td>\n",
       "      <td>False</td>\n",
       "      <td>False</td>\n",
       "      <td>False</td>\n",
       "      <td>False</td>\n",
       "      <td>False</td>\n",
       "      <td>False</td>\n",
       "      <td>False</td>\n",
       "    </tr>\n",
       "    <tr>\n",
       "      <th>1</th>\n",
       "      <td>-2.0</td>\n",
       "      <td>208.0</td>\n",
       "      <td>0.0</td>\n",
       "      <td>0.0</td>\n",
       "      <td>8.0</td>\n",
       "      <td>88.0</td>\n",
       "      <td>0.0</td>\n",
       "      <td>0.23</td>\n",
       "      <td>50.000000</td>\n",
       "      <td>False</td>\n",
       "      <td>...</td>\n",
       "      <td>False</td>\n",
       "      <td>False</td>\n",
       "      <td>False</td>\n",
       "      <td>False</td>\n",
       "      <td>False</td>\n",
       "      <td>False</td>\n",
       "      <td>False</td>\n",
       "      <td>True</td>\n",
       "      <td>False</td>\n",
       "      <td>False</td>\n",
       "    </tr>\n",
       "    <tr>\n",
       "      <th>2</th>\n",
       "      <td>13.0</td>\n",
       "      <td>442.0</td>\n",
       "      <td>22.0</td>\n",
       "      <td>2.6</td>\n",
       "      <td>25.0</td>\n",
       "      <td>1.4</td>\n",
       "      <td>6.4</td>\n",
       "      <td>0.53</td>\n",
       "      <td>22.666667</td>\n",
       "      <td>False</td>\n",
       "      <td>...</td>\n",
       "      <td>False</td>\n",
       "      <td>False</td>\n",
       "      <td>False</td>\n",
       "      <td>False</td>\n",
       "      <td>False</td>\n",
       "      <td>False</td>\n",
       "      <td>False</td>\n",
       "      <td>False</td>\n",
       "      <td>False</td>\n",
       "      <td>False</td>\n",
       "    </tr>\n",
       "    <tr>\n",
       "      <th>3</th>\n",
       "      <td>17.0</td>\n",
       "      <td>460.0</td>\n",
       "      <td>24.0</td>\n",
       "      <td>6.0</td>\n",
       "      <td>31.0</td>\n",
       "      <td>1.4</td>\n",
       "      <td>6.4</td>\n",
       "      <td>0.48</td>\n",
       "      <td>16.250000</td>\n",
       "      <td>False</td>\n",
       "      <td>...</td>\n",
       "      <td>False</td>\n",
       "      <td>False</td>\n",
       "      <td>False</td>\n",
       "      <td>False</td>\n",
       "      <td>False</td>\n",
       "      <td>False</td>\n",
       "      <td>False</td>\n",
       "      <td>False</td>\n",
       "      <td>False</td>\n",
       "      <td>False</td>\n",
       "    </tr>\n",
       "    <tr>\n",
       "      <th>4</th>\n",
       "      <td>16.0</td>\n",
       "      <td>467.0</td>\n",
       "      <td>25.0</td>\n",
       "      <td>6.1</td>\n",
       "      <td>29.0</td>\n",
       "      <td>2.5</td>\n",
       "      <td>6.3</td>\n",
       "      <td>0.45</td>\n",
       "      <td>16.250000</td>\n",
       "      <td>False</td>\n",
       "      <td>...</td>\n",
       "      <td>False</td>\n",
       "      <td>False</td>\n",
       "      <td>False</td>\n",
       "      <td>False</td>\n",
       "      <td>False</td>\n",
       "      <td>False</td>\n",
       "      <td>False</td>\n",
       "      <td>False</td>\n",
       "      <td>False</td>\n",
       "      <td>False</td>\n",
       "    </tr>\n",
       "  </tbody>\n",
       "</table>\n",
       "<p>5 rows × 48 columns</p>\n",
       "</div>"
      ],
      "text/plain": [
       "   nutriscore_score  energy-kcal_100g  fat_100g  saturated-fat_100g  \\\n",
       "0              19.0             578.0      40.9                21.5   \n",
       "1              -2.0             208.0       0.0                 0.0   \n",
       "2              13.0             442.0      22.0                 2.6   \n",
       "3              17.0             460.0      24.0                 6.0   \n",
       "4              16.0             467.0      25.0                 6.1   \n",
       "\n",
       "   sugars_100g  fiber_100g  proteins_100g  salt_100g  \\\n",
       "0         35.0         8.4            7.5       0.00   \n",
       "1          8.0        88.0            0.0       0.23   \n",
       "2         25.0         1.4            6.4       0.53   \n",
       "3         31.0         1.4            6.4       0.48   \n",
       "4         29.0         2.5            6.3       0.45   \n",
       "\n",
       "   fruits-vegetables-nuts-estimate-from-ingredients_100g  \\\n",
       "0                                          12.000000       \n",
       "1                                          50.000000       \n",
       "2                                          22.666667       \n",
       "3                                          16.250000       \n",
       "4                                          16.250000       \n",
       "\n",
       "   pnns_groups_2_Appetizers  ...  pnns_groups_2_Salty and fatty products  \\\n",
       "0                     False  ...                                   False   \n",
       "1                     False  ...                                   False   \n",
       "2                     False  ...                                   False   \n",
       "3                     False  ...                                   False   \n",
       "4                     False  ...                                   False   \n",
       "\n",
       "   pnns_groups_2_Sandwiches  pnns_groups_2_Soups  \\\n",
       "0                     False                False   \n",
       "1                     False                False   \n",
       "2                     False                False   \n",
       "3                     False                False   \n",
       "4                     False                False   \n",
       "\n",
       "   pnns_groups_2_Sweetened beverages  pnns_groups_2_Sweets  \\\n",
       "0                              False                 False   \n",
       "1                              False                 False   \n",
       "2                              False                 False   \n",
       "3                              False                 False   \n",
       "4                              False                 False   \n",
       "\n",
       "   pnns_groups_2_Teas and herbal teas and coffees  \\\n",
       "0                                           False   \n",
       "1                                           False   \n",
       "2                                           False   \n",
       "3                                           False   \n",
       "4                                           False   \n",
       "\n",
       "   pnns_groups_2_Unsweetened beverages  pnns_groups_2_Vegetables  \\\n",
       "0                                False                     False   \n",
       "1                                False                      True   \n",
       "2                                False                     False   \n",
       "3                                False                     False   \n",
       "4                                False                     False   \n",
       "\n",
       "   pnns_groups_2_Waters and flavored waters  pnns_groups_2_unknown  \n",
       "0                                     False                  False  \n",
       "1                                     False                  False  \n",
       "2                                     False                  False  \n",
       "3                                     False                  False  \n",
       "4                                     False                  False  \n",
       "\n",
       "[5 rows x 48 columns]"
      ]
     },
     "execution_count": 29,
     "metadata": {},
     "output_type": "execute_result"
    }
   ],
   "source": [
    "df.head()"
   ]
  },
  {
   "cell_type": "markdown",
   "metadata": {
    "id": "lnV3hX-wp8bu"
   },
   "source": [
    "**Préparer les données pour prédire la variable nutriscore**"
   ]
  },
  {
   "cell_type": "code",
   "execution_count": 30,
   "metadata": {
    "id": "36To1bzjNF1m"
   },
   "outputs": [],
   "source": [
    "X = df.drop(\"nutriscore_score\", axis = 1)\n",
    "y = df[\"nutriscore_score\"]"
   ]
  },
  {
   "cell_type": "markdown",
   "metadata": {
    "id": "r0NCr0rrqL8Z"
   },
   "source": [
    "**Sépartion des données d'entrainnement et les données de test**"
   ]
  },
  {
   "cell_type": "code",
   "execution_count": 31,
   "metadata": {
    "id": "uX_SKXy3NF4O"
   },
   "outputs": [],
   "source": [
    "from sklearn.model_selection import train_test_split\n",
    "import random\n",
    "X_train, X_test, y_train, y_test = train_test_split(X, y, test_size = 0.2,random_state=12)"
   ]
  },
  {
   "cell_type": "markdown",
   "metadata": {
    "id": "lkNfwRnzqahv"
   },
   "source": [
    "**Normalisation des données**"
   ]
  },
  {
   "cell_type": "code",
   "execution_count": 32,
   "metadata": {
    "id": "M9AKQwk_NF7v"
   },
   "outputs": [],
   "source": [
    "from sklearn.preprocessing import MinMaxScaler\n",
    "scaler = MinMaxScaler()\n",
    "X_train_scaled = scaler.fit_transform(X_train)\n",
    "\n",
    "X_test_scaled = scaler.transform(X_test)"
   ]
  },
  {
   "cell_type": "markdown",
   "metadata": {
    "id": "f8vFghQFqk9X"
   },
   "source": [
    "**Un arbre de régression de type CART**"
   ]
  },
  {
   "cell_type": "code",
   "execution_count": 33,
   "metadata": {
    "id": "AAb3SC0cNXQi"
   },
   "outputs": [],
   "source": [
    "from sklearn.ensemble import GradientBoostingRegressor\n",
    "model = GradientBoostingRegressor(\n",
    "    learning_rate=0.05,  # Réduit le pas d'apprentissage\n",
    "    n_estimators=100,    # Réduit le nombre d'estimateurs\n",
    "    max_depth=3,         # Limite la profondeur des arbres\n",
    "    random_state=12\n",
    ")\n",
    "model.fit(X_train_scaled,y_train)\n",
    "y_pred = model .predict(X_test_scaled)"
   ]
  },
  {
   "cell_type": "markdown",
   "metadata": {
    "id": "yV048dAZqt1W"
   },
   "source": [
    "**Evaluation du modèle**"
   ]
  },
  {
   "cell_type": "code",
   "execution_count": 34,
   "metadata": {
    "colab": {
     "base_uri": "https://localhost:8080/"
    },
    "id": "Ribml0UULpb7",
    "outputId": "bf456e6a-0add-4394-fad7-1f13c94f1f94"
   },
   "outputs": [
    {
     "name": "stdout",
     "output_type": "stream",
     "text": [
      "MAE: 1.494814957565672\n",
      "MSE: 4.521594752511058\n",
      "R²: 0.9414981136216239\n"
     ]
    }
   ],
   "source": [
    "from sklearn.metrics import mean_absolute_error, mean_squared_error, r2_score\n",
    "\n",
    "\n",
    "print(\"MAE:\", mean_absolute_error(y_test, y_pred))\n",
    "print(\"MSE:\", mean_squared_error(y_test, y_pred))\n",
    "print(\"R²:\", r2_score(y_test, y_pred))"
   ]
  },
  {
   "cell_type": "code",
   "execution_count": null,
   "metadata": {},
   "outputs": [],
   "source": []
  },
  {
   "cell_type": "code",
   "execution_count": null,
   "metadata": {},
   "outputs": [],
   "source": []
  },
  {
   "cell_type": "code",
   "execution_count": null,
   "metadata": {},
   "outputs": [],
   "source": []
  }
 ],
 "metadata": {
  "colab": {
   "provenance": []
  },
  "kernelspec": {
   "display_name": "Python 3 (ipykernel)",
   "language": "python",
   "name": "python3"
  },
  "language_info": {
   "codemirror_mode": {
    "name": "ipython",
    "version": 3
   },
   "file_extension": ".py",
   "mimetype": "text/x-python",
   "name": "python",
   "nbconvert_exporter": "python",
   "pygments_lexer": "ipython3",
   "version": "3.12.6"
  }
 },
 "nbformat": 4,
 "nbformat_minor": 4
}
