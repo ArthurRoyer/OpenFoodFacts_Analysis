{
 "cells": [
  {
   "cell_type": "markdown",
   "metadata": {
    "id": "1m4tDFrDm_LV"
   },
   "source": [
    "La **régression** est une technique d'apprentissage supervisé utilisée en statistiques et en apprentissage automatique pour modéliser et analyser les relations entre une variable cible (dépendante) et une ou plusieurs variables indépendantes (ou prédicteurs). L’objectif principal de la régression est de prédire des valeurs continues pour la variable cible en se basant sur les valeurs des variables indépendantes."
   ]
  },
  {
   "cell_type": "markdown",
   "metadata": {
    "id": "tjc0arVpnjqf"
   },
   "source": [
    "**Importer l'ensemble de données**"
   ]
  },
  {
   "cell_type": "code",
   "execution_count": 1,
   "metadata": {
    "colab": {
     "base_uri": "https://localhost:8080/"
    },
    "id": "6xgSJ3eZGann",
    "outputId": "c450e70c-278a-4405-d852-1818c0c6c230"
   },
   "outputs": [
    {
     "name": "stderr",
     "output_type": "stream",
     "text": [
      "C:\\Users\\sebas\\AppData\\Local\\Temp\\ipykernel_21716\\1133258183.py:2: DtypeWarning: Columns (0) have mixed types. Specify dtype option on import or set low_memory=False.\n",
      "  df=pd.read_csv(\"cleaned_data.csv\",sep=',',on_bad_lines='skip')\n"
     ]
    }
   ],
   "source": [
    "import pandas as pd\n",
    "df=pd.read_csv(\"cleaned_data.csv\",sep=',',on_bad_lines='skip')"
   ]
  },
  {
   "cell_type": "markdown",
   "metadata": {
    "id": "lcg2VnzEnxEA"
   },
   "source": [
    "**Un aperçu des données dans notre DataFrame**"
   ]
  },
  {
   "cell_type": "code",
   "execution_count": 2,
   "metadata": {
    "colab": {
     "base_uri": "https://localhost:8080/"
    },
    "id": "7CecdJ0PLkco",
    "outputId": "3f6ceec1-4ab0-48f8-8f93-a4e449e7d5df"
   },
   "outputs": [
    {
     "name": "stdout",
     "output_type": "stream",
     "text": [
      "<class 'pandas.core.frame.DataFrame'>\n",
      "RangeIndex: 121791 entries, 0 to 121790\n",
      "Data columns (total 26 columns):\n",
      " #   Column                                                 Non-Null Count   Dtype  \n",
      "---  ------                                                 --------------   -----  \n",
      " 0   code                                                   121791 non-null  object \n",
      " 1   product_name                                           118793 non-null  object \n",
      " 2   created_datetime                                       121791 non-null  object \n",
      " 3   quantity                                               109531 non-null  object \n",
      " 4   brands                                                 117335 non-null  object \n",
      " 5   categories                                             121791 non-null  object \n",
      " 6   categories_en                                          121791 non-null  object \n",
      " 7   pnns_groups_1                                          121791 non-null  object \n",
      " 8   pnns_groups_2                                          121791 non-null  object \n",
      " 9   main_category_en                                       121791 non-null  object \n",
      " 10  ingredients_text                                       121788 non-null  object \n",
      " 11  nutriscore_score                                       121791 non-null  float64\n",
      " 12  nutriscore_grade                                       121791 non-null  object \n",
      " 13  countries_en                                           121791 non-null  object \n",
      " 14  energy-kj_100g                                         121791 non-null  float64\n",
      " 15  energy-kcal_100g                                       121791 non-null  float64\n",
      " 16  fat_100g                                               121791 non-null  float64\n",
      " 17  saturated-fat_100g                                     121791 non-null  float64\n",
      " 18  sugars_100g                                            121791 non-null  float64\n",
      " 19  fiber_100g                                             121791 non-null  float64\n",
      " 20  proteins_100g                                          121791 non-null  float64\n",
      " 21  salt_100g                                              121791 non-null  float64\n",
      " 22  fruits-vegetables-nuts-estimate-from-ingredients_100g  121791 non-null  float64\n",
      " 23  nutrition-score-fr_100g                                121791 non-null  float64\n",
      " 24  product_name_lower                                     118793 non-null  object \n",
      " 25  brands_lower                                           117335 non-null  object \n",
      "dtypes: float64(11), object(15)\n",
      "memory usage: 24.2+ MB\n"
     ]
    }
   ],
   "source": [
    "df.info()"
   ]
  },
  {
   "cell_type": "markdown",
   "metadata": {
    "id": "U_98_HVTotiH"
   },
   "source": [
    "**Suppresssion des variables de type objet**"
   ]
  },
  {
   "cell_type": "code",
   "execution_count": 2,
   "metadata": {
    "id": "e2rbo3gA_Y8U"
   },
   "outputs": [],
   "source": [
    "df=df.drop(['code','nutrition-score-fr_100g','product_name','created_datetime','quantity','brands','categories','categories_en','pnns_groups_1','pnns_groups_2','main_category_en','ingredients_text','countries_en','product_name_lower','brands_lower'], axis = 1)"
   ]
  },
  {
   "cell_type": "markdown",
   "metadata": {
    "id": "HEdaEwmkpgFM"
   },
   "source": [
    "**Encodage de la variable nutriscore_grade**"
   ]
  },
  {
   "cell_type": "code",
   "execution_count": 3,
   "metadata": {
    "id": "oG4ihpYYLpCH"
   },
   "outputs": [],
   "source": [
    "# One-hot encoding avec pandas\n",
    "df = pd.get_dummies(df, 'nutriscore_grade', drop_first=True)"
   ]
  },
  {
   "cell_type": "markdown",
   "metadata": {
    "id": "P2RyNQoPptsC"
   },
   "source": [
    "**Affichage des premières lignes**"
   ]
  },
  {
   "cell_type": "code",
   "execution_count": 4,
   "metadata": {
    "colab": {
     "base_uri": "https://localhost:8080/",
     "height": 278
    },
    "id": "UhcXAIrzLpYk",
    "outputId": "b73680ae-fb04-44a2-f154-ba756bdf83bf"
   },
   "outputs": [
    {
     "data": {
      "text/html": [
       "<div>\n",
       "<style scoped>\n",
       "    .dataframe tbody tr th:only-of-type {\n",
       "        vertical-align: middle;\n",
       "    }\n",
       "\n",
       "    .dataframe tbody tr th {\n",
       "        vertical-align: top;\n",
       "    }\n",
       "\n",
       "    .dataframe thead th {\n",
       "        text-align: right;\n",
       "    }\n",
       "</style>\n",
       "<table border=\"1\" class=\"dataframe\">\n",
       "  <thead>\n",
       "    <tr style=\"text-align: right;\">\n",
       "      <th></th>\n",
       "      <th>nutriscore_score</th>\n",
       "      <th>energy-kj_100g</th>\n",
       "      <th>energy-kcal_100g</th>\n",
       "      <th>fat_100g</th>\n",
       "      <th>saturated-fat_100g</th>\n",
       "      <th>sugars_100g</th>\n",
       "      <th>fiber_100g</th>\n",
       "      <th>proteins_100g</th>\n",
       "      <th>salt_100g</th>\n",
       "      <th>fruits-vegetables-nuts-estimate-from-ingredients_100g</th>\n",
       "      <th>nutriscore_grade_b</th>\n",
       "      <th>nutriscore_grade_c</th>\n",
       "      <th>nutriscore_grade_d</th>\n",
       "      <th>nutriscore_grade_e</th>\n",
       "    </tr>\n",
       "  </thead>\n",
       "  <tbody>\n",
       "    <tr>\n",
       "      <th>0</th>\n",
       "      <td>19.0</td>\n",
       "      <td>2401.0</td>\n",
       "      <td>578.0</td>\n",
       "      <td>40.9</td>\n",
       "      <td>21.5</td>\n",
       "      <td>35.0</td>\n",
       "      <td>8.4</td>\n",
       "      <td>7.5</td>\n",
       "      <td>0.00</td>\n",
       "      <td>12.000000</td>\n",
       "      <td>False</td>\n",
       "      <td>False</td>\n",
       "      <td>False</td>\n",
       "      <td>True</td>\n",
       "    </tr>\n",
       "    <tr>\n",
       "      <th>1</th>\n",
       "      <td>-2.0</td>\n",
       "      <td>840.0</td>\n",
       "      <td>208.0</td>\n",
       "      <td>0.0</td>\n",
       "      <td>0.0</td>\n",
       "      <td>8.0</td>\n",
       "      <td>88.0</td>\n",
       "      <td>0.0</td>\n",
       "      <td>0.23</td>\n",
       "      <td>50.000000</td>\n",
       "      <td>False</td>\n",
       "      <td>False</td>\n",
       "      <td>False</td>\n",
       "      <td>False</td>\n",
       "    </tr>\n",
       "    <tr>\n",
       "      <th>2</th>\n",
       "      <td>13.0</td>\n",
       "      <td>1852.0</td>\n",
       "      <td>442.0</td>\n",
       "      <td>22.0</td>\n",
       "      <td>2.6</td>\n",
       "      <td>25.0</td>\n",
       "      <td>1.4</td>\n",
       "      <td>6.4</td>\n",
       "      <td>0.53</td>\n",
       "      <td>22.666667</td>\n",
       "      <td>False</td>\n",
       "      <td>False</td>\n",
       "      <td>True</td>\n",
       "      <td>False</td>\n",
       "    </tr>\n",
       "    <tr>\n",
       "      <th>3</th>\n",
       "      <td>17.0</td>\n",
       "      <td>1926.0</td>\n",
       "      <td>460.0</td>\n",
       "      <td>24.0</td>\n",
       "      <td>6.0</td>\n",
       "      <td>31.0</td>\n",
       "      <td>1.4</td>\n",
       "      <td>6.4</td>\n",
       "      <td>0.48</td>\n",
       "      <td>16.250000</td>\n",
       "      <td>False</td>\n",
       "      <td>False</td>\n",
       "      <td>True</td>\n",
       "      <td>False</td>\n",
       "    </tr>\n",
       "    <tr>\n",
       "      <th>4</th>\n",
       "      <td>16.0</td>\n",
       "      <td>1953.0</td>\n",
       "      <td>467.0</td>\n",
       "      <td>25.0</td>\n",
       "      <td>6.1</td>\n",
       "      <td>29.0</td>\n",
       "      <td>2.5</td>\n",
       "      <td>6.3</td>\n",
       "      <td>0.45</td>\n",
       "      <td>16.250000</td>\n",
       "      <td>False</td>\n",
       "      <td>False</td>\n",
       "      <td>True</td>\n",
       "      <td>False</td>\n",
       "    </tr>\n",
       "  </tbody>\n",
       "</table>\n",
       "</div>"
      ],
      "text/plain": [
       "   nutriscore_score  energy-kj_100g  energy-kcal_100g  fat_100g  \\\n",
       "0              19.0          2401.0             578.0      40.9   \n",
       "1              -2.0           840.0             208.0       0.0   \n",
       "2              13.0          1852.0             442.0      22.0   \n",
       "3              17.0          1926.0             460.0      24.0   \n",
       "4              16.0          1953.0             467.0      25.0   \n",
       "\n",
       "   saturated-fat_100g  sugars_100g  fiber_100g  proteins_100g  salt_100g  \\\n",
       "0                21.5         35.0         8.4            7.5       0.00   \n",
       "1                 0.0          8.0        88.0            0.0       0.23   \n",
       "2                 2.6         25.0         1.4            6.4       0.53   \n",
       "3                 6.0         31.0         1.4            6.4       0.48   \n",
       "4                 6.1         29.0         2.5            6.3       0.45   \n",
       "\n",
       "   fruits-vegetables-nuts-estimate-from-ingredients_100g  nutriscore_grade_b  \\\n",
       "0                                          12.000000                   False   \n",
       "1                                          50.000000                   False   \n",
       "2                                          22.666667                   False   \n",
       "3                                          16.250000                   False   \n",
       "4                                          16.250000                   False   \n",
       "\n",
       "   nutriscore_grade_c  nutriscore_grade_d  nutriscore_grade_e  \n",
       "0               False               False                True  \n",
       "1               False               False               False  \n",
       "2               False                True               False  \n",
       "3               False                True               False  \n",
       "4               False                True               False  "
      ]
     },
     "execution_count": 4,
     "metadata": {},
     "output_type": "execute_result"
    }
   ],
   "source": [
    "df.head()"
   ]
  },
  {
   "cell_type": "markdown",
   "metadata": {
    "id": "lnV3hX-wp8bu"
   },
   "source": [
    "**Préparer les données pour prédire la variable nutriscore**"
   ]
  },
  {
   "cell_type": "code",
   "execution_count": 5,
   "metadata": {
    "id": "36To1bzjNF1m"
   },
   "outputs": [],
   "source": [
    "X = df.drop(\"nutriscore_score\", axis = 1)\n",
    "y = df[\"nutriscore_score\"]"
   ]
  },
  {
   "cell_type": "markdown",
   "metadata": {
    "id": "r0NCr0rrqL8Z"
   },
   "source": [
    "**Sépartion des données d'entrainnement et les données de test**"
   ]
  },
  {
   "cell_type": "code",
   "execution_count": 7,
   "metadata": {},
   "outputs": [
    {
     "name": "stdout",
     "output_type": "stream",
     "text": [
      "Collecting scikit-learn\n",
      "  Using cached scikit_learn-1.5.2-cp313-cp313-win_amd64.whl.metadata (13 kB)\n",
      "Requirement already satisfied: numpy>=1.19.5 in c:\\users\\sebas\\pycharmprojects\\nutriscore\\env\\lib\\site-packages (from scikit-learn) (2.1.2)\n",
      "Collecting scipy>=1.6.0 (from scikit-learn)\n",
      "  Using cached scipy-1.14.1-cp313-cp313-win_amd64.whl.metadata (60 kB)\n",
      "Collecting joblib>=1.2.0 (from scikit-learn)\n",
      "  Using cached joblib-1.4.2-py3-none-any.whl.metadata (5.4 kB)\n",
      "Collecting threadpoolctl>=3.1.0 (from scikit-learn)\n",
      "  Using cached threadpoolctl-3.5.0-py3-none-any.whl.metadata (13 kB)\n",
      "Using cached scikit_learn-1.5.2-cp313-cp313-win_amd64.whl (11.0 MB)\n",
      "Using cached joblib-1.4.2-py3-none-any.whl (301 kB)\n",
      "Using cached scipy-1.14.1-cp313-cp313-win_amd64.whl (44.5 MB)\n",
      "Using cached threadpoolctl-3.5.0-py3-none-any.whl (18 kB)\n",
      "Installing collected packages: threadpoolctl, scipy, joblib, scikit-learn\n",
      "Successfully installed joblib-1.4.2 scikit-learn-1.5.2 scipy-1.14.1 threadpoolctl-3.5.0\n"
     ]
    }
   ],
   "source": [
    "!pip install scikit-learn"
   ]
  },
  {
   "cell_type": "code",
   "execution_count": 8,
   "metadata": {
    "id": "uX_SKXy3NF4O"
   },
   "outputs": [],
   "source": [
    "from sklearn.model_selection import train_test_split\n",
    "X_train, X_test, y_train, y_test = train_test_split(X, y, test_size = 0.2,random_state=42)"
   ]
  },
  {
   "cell_type": "markdown",
   "metadata": {
    "id": "lkNfwRnzqahv"
   },
   "source": [
    "**Normalisation des données**"
   ]
  },
  {
   "cell_type": "code",
   "execution_count": 9,
   "metadata": {
    "id": "M9AKQwk_NF7v"
   },
   "outputs": [],
   "source": [
    "from sklearn.preprocessing import MinMaxScaler\n",
    "scaler = MinMaxScaler()\n",
    "X_train_scaled = scaler.fit_transform(X_train)\n",
    "\n",
    "X_test_scaled = scaler.transform(X_test)"
   ]
  },
  {
   "cell_type": "markdown",
   "metadata": {
    "id": "f8vFghQFqk9X"
   },
   "source": [
    "**Un arbre de régression de type CART**"
   ]
  },
  {
   "cell_type": "code",
   "execution_count": 10,
   "metadata": {
    "id": "AAb3SC0cNXQi"
   },
   "outputs": [],
   "source": [
    "from sklearn.tree import DecisionTreeRegressor\n",
    "Rtr = DecisionTreeRegressor()\n",
    "Rtr.fit(X_train_scaled,y_train)\n",
    "y_pred = Rtr .predict(X_test_scaled)"
   ]
  },
  {
   "cell_type": "markdown",
   "metadata": {
    "id": "yV048dAZqt1W"
   },
   "source": [
    "**Evaluation du modèle**"
   ]
  },
  {
   "cell_type": "code",
   "execution_count": 11,
   "metadata": {
    "colab": {
     "base_uri": "https://localhost:8080/"
    },
    "id": "Ribml0UULpb7",
    "outputId": "bf456e6a-0add-4394-fad7-1f13c94f1f94"
   },
   "outputs": [
    {
     "name": "stdout",
     "output_type": "stream",
     "text": [
      "MAE: 0.3992560795792757\n",
      "MSE: 0.9476047729732764\n",
      "R²: 0.9877096519386833\n"
     ]
    }
   ],
   "source": [
    "from sklearn.metrics import mean_absolute_error, mean_squared_error, r2_score\n",
    "\n",
    "\n",
    "print(\"MAE:\", mean_absolute_error(y_test, y_pred))\n",
    "print(\"MSE:\", mean_squared_error(y_test, y_pred))\n",
    "print(\"R²:\", r2_score(y_test, y_pred))"
   ]
  },
  {
   "cell_type": "markdown",
   "metadata": {
    "id": "eK3C8TZNPPyl"
   },
   "source": [
    "Ce modèle présente une une précision dans la prédiction des valeurs cibles grâce à une erreur moyenne absolue faible (0,41), une erreur absolue moyenne faible (0,99) et un R2 (0,98) trés elevé.\n"
   ]
  }
 ],
 "metadata": {
  "colab": {
   "provenance": []
  },
  "kernelspec": {
   "display_name": "Python 3 (ipykernel)",
   "language": "python",
   "name": "python3"
  },
  "language_info": {
   "codemirror_mode": {
    "name": "ipython",
    "version": 3
   },
   "file_extension": ".py",
   "mimetype": "text/x-python",
   "name": "python",
   "nbconvert_exporter": "python",
   "pygments_lexer": "ipython3",
   "version": "3.13.0"
  }
 },
 "nbformat": 4,
 "nbformat_minor": 4
}
