{
  "nbformat": 4,
  "nbformat_minor": 0,
  "metadata": {
    "colab": {
      "provenance": []
    },
    "kernelspec": {
      "name": "python3",
      "display_name": "Python 3"
    },
    "language_info": {
      "name": "python"
    }
  },
  "cells": [
    {
      "cell_type": "markdown",
      "source": [
        "La **régression** est une technique d'apprentissage supervisé utilisée en statistiques et en apprentissage automatique pour modéliser et analyser les relations entre une variable cible (dépendante) et une ou plusieurs variables indépendantes (ou prédicteurs). L’objectif principal de la régression est de prédire des valeurs continues pour la variable cible en se basant sur les valeurs des variables indépendantes."
      ],
      "metadata": {
        "id": "1m4tDFrDm_LV"
      }
    },
    {
      "cell_type": "markdown",
      "source": [
        "**Importer l'ensemble de données**"
      ],
      "metadata": {
        "id": "tjc0arVpnjqf"
      }
    },
    {
      "cell_type": "code",
      "execution_count": 1,
      "metadata": {
        "id": "6xgSJ3eZGann",
        "colab": {
          "base_uri": "https://localhost:8080/"
        },
        "outputId": "c450e70c-278a-4405-d852-1818c0c6c230"
      },
      "outputs": [
        {
          "output_type": "stream",
          "name": "stderr",
          "text": [
            "<ipython-input-1-b0a6e36e9046>:2: DtypeWarning: Columns (0) have mixed types. Specify dtype option on import or set low_memory=False.\n",
            "  df=pd.read_csv(\"cleaned_data.csv\",sep=',',on_bad_lines='skip')\n"
          ]
        }
      ],
      "source": [
        "import pandas as pd\n",
        "df=pd.read_csv(\"cleaned_data.csv\",sep=',',on_bad_lines='skip')"
      ]
    },
    {
      "cell_type": "markdown",
      "source": [
        "**Un aperçu des données dans notre DataFrame**"
      ],
      "metadata": {
        "id": "lcg2VnzEnxEA"
      }
    },
    {
      "cell_type": "code",
      "source": [
        "df.info()"
      ],
      "metadata": {
        "colab": {
          "base_uri": "https://localhost:8080/"
        },
        "id": "7CecdJ0PLkco",
        "outputId": "3f6ceec1-4ab0-48f8-8f93-a4e449e7d5df"
      },
      "execution_count": 2,
      "outputs": [
        {
          "output_type": "stream",
          "name": "stdout",
          "text": [
            "<class 'pandas.core.frame.DataFrame'>\n",
            "RangeIndex: 121791 entries, 0 to 121790\n",
            "Data columns (total 26 columns):\n",
            " #   Column                                                 Non-Null Count   Dtype  \n",
            "---  ------                                                 --------------   -----  \n",
            " 0   code                                                   121791 non-null  object \n",
            " 1   product_name                                           118793 non-null  object \n",
            " 2   created_datetime                                       121791 non-null  object \n",
            " 3   quantity                                               109531 non-null  object \n",
            " 4   brands                                                 117335 non-null  object \n",
            " 5   categories                                             121791 non-null  object \n",
            " 6   categories_en                                          121791 non-null  object \n",
            " 7   pnns_groups_1                                          121791 non-null  object \n",
            " 8   pnns_groups_2                                          121791 non-null  object \n",
            " 9   main_category_en                                       121791 non-null  object \n",
            " 10  ingredients_text                                       121788 non-null  object \n",
            " 11  nutriscore_score                                       121791 non-null  float64\n",
            " 12  nutriscore_grade                                       121791 non-null  object \n",
            " 13  countries_en                                           121791 non-null  object \n",
            " 14  energy-kj_100g                                         121791 non-null  float64\n",
            " 15  energy-kcal_100g                                       121791 non-null  float64\n",
            " 16  fat_100g                                               121791 non-null  float64\n",
            " 17  saturated-fat_100g                                     121791 non-null  float64\n",
            " 18  sugars_100g                                            121791 non-null  float64\n",
            " 19  fiber_100g                                             121791 non-null  float64\n",
            " 20  proteins_100g                                          121791 non-null  float64\n",
            " 21  salt_100g                                              121791 non-null  float64\n",
            " 22  fruits-vegetables-nuts-estimate-from-ingredients_100g  121791 non-null  float64\n",
            " 23  nutrition-score-fr_100g                                121791 non-null  float64\n",
            " 24  product_name_lower                                     118793 non-null  object \n",
            " 25  brands_lower                                           117335 non-null  object \n",
            "dtypes: float64(11), object(15)\n",
            "memory usage: 24.2+ MB\n"
          ]
        }
      ]
    },
    {
      "cell_type": "markdown",
      "source": [
        "**Suppresssion des variables de type objet**"
      ],
      "metadata": {
        "id": "U_98_HVTotiH"
      }
    },
    {
      "cell_type": "code",
      "source": [
        "df=df.drop(['code','nutrition-score-fr_100g','product_name','created_datetime','quantity','brands','categories','categories_en','pnns_groups_1','pnns_groups_2','main_category_en','ingredients_text','countries_en','product_name_lower','brands_lower'], axis = 1)"
      ],
      "metadata": {
        "id": "e2rbo3gA_Y8U"
      },
      "execution_count": 4,
      "outputs": []
    },
    {
      "cell_type": "markdown",
      "source": [
        "**Encodage de la variable nutriscore_grade**"
      ],
      "metadata": {
        "id": "HEdaEwmkpgFM"
      }
    },
    {
      "cell_type": "code",
      "source": [
        "# One-hot encoding avec pandas\n",
        "df = pd.get_dummies(df, 'nutriscore_grade', drop_first=True)"
      ],
      "metadata": {
        "id": "oG4ihpYYLpCH"
      },
      "execution_count": 5,
      "outputs": []
    },
    {
      "cell_type": "markdown",
      "source": [
        "**Affichage des premières lignes**"
      ],
      "metadata": {
        "id": "P2RyNQoPptsC"
      }
    },
    {
      "cell_type": "code",
      "source": [
        "df.head()"
      ],
      "metadata": {
        "colab": {
          "base_uri": "https://localhost:8080/",
          "height": 278
        },
        "id": "UhcXAIrzLpYk",
        "outputId": "b73680ae-fb04-44a2-f154-ba756bdf83bf"
      },
      "execution_count": 6,
      "outputs": [
        {
          "output_type": "execute_result",
          "data": {
            "text/plain": [
              "   nutriscore_score  energy-kj_100g  energy-kcal_100g  fat_100g  \\\n",
              "0              19.0          2401.0             578.0      40.9   \n",
              "1              -2.0           840.0             208.0       0.0   \n",
              "2              13.0          1852.0             442.0      22.0   \n",
              "3              17.0          1926.0             460.0      24.0   \n",
              "4              16.0          1953.0             467.0      25.0   \n",
              "\n",
              "   saturated-fat_100g  sugars_100g  fiber_100g  proteins_100g  salt_100g  \\\n",
              "0                21.5         35.0         8.4            7.5       0.00   \n",
              "1                 0.0          8.0        88.0            0.0       0.23   \n",
              "2                 2.6         25.0         1.4            6.4       0.53   \n",
              "3                 6.0         31.0         1.4            6.4       0.48   \n",
              "4                 6.1         29.0         2.5            6.3       0.45   \n",
              "\n",
              "   fruits-vegetables-nuts-estimate-from-ingredients_100g  nutriscore_grade_b  \\\n",
              "0                                          12.000000                   False   \n",
              "1                                          50.000000                   False   \n",
              "2                                          22.666667                   False   \n",
              "3                                          16.250000                   False   \n",
              "4                                          16.250000                   False   \n",
              "\n",
              "   nutriscore_grade_c  nutriscore_grade_d  nutriscore_grade_e  \n",
              "0               False               False                True  \n",
              "1               False               False               False  \n",
              "2               False                True               False  \n",
              "3               False                True               False  \n",
              "4               False                True               False  "
            ],
            "text/html": [
              "\n",
              "  <div id=\"df-8a8ac0e5-df49-4296-a260-da07cfd9714a\" class=\"colab-df-container\">\n",
              "    <div>\n",
              "<style scoped>\n",
              "    .dataframe tbody tr th:only-of-type {\n",
              "        vertical-align: middle;\n",
              "    }\n",
              "\n",
              "    .dataframe tbody tr th {\n",
              "        vertical-align: top;\n",
              "    }\n",
              "\n",
              "    .dataframe thead th {\n",
              "        text-align: right;\n",
              "    }\n",
              "</style>\n",
              "<table border=\"1\" class=\"dataframe\">\n",
              "  <thead>\n",
              "    <tr style=\"text-align: right;\">\n",
              "      <th></th>\n",
              "      <th>nutriscore_score</th>\n",
              "      <th>energy-kj_100g</th>\n",
              "      <th>energy-kcal_100g</th>\n",
              "      <th>fat_100g</th>\n",
              "      <th>saturated-fat_100g</th>\n",
              "      <th>sugars_100g</th>\n",
              "      <th>fiber_100g</th>\n",
              "      <th>proteins_100g</th>\n",
              "      <th>salt_100g</th>\n",
              "      <th>fruits-vegetables-nuts-estimate-from-ingredients_100g</th>\n",
              "      <th>nutriscore_grade_b</th>\n",
              "      <th>nutriscore_grade_c</th>\n",
              "      <th>nutriscore_grade_d</th>\n",
              "      <th>nutriscore_grade_e</th>\n",
              "    </tr>\n",
              "  </thead>\n",
              "  <tbody>\n",
              "    <tr>\n",
              "      <th>0</th>\n",
              "      <td>19.0</td>\n",
              "      <td>2401.0</td>\n",
              "      <td>578.0</td>\n",
              "      <td>40.9</td>\n",
              "      <td>21.5</td>\n",
              "      <td>35.0</td>\n",
              "      <td>8.4</td>\n",
              "      <td>7.5</td>\n",
              "      <td>0.00</td>\n",
              "      <td>12.000000</td>\n",
              "      <td>False</td>\n",
              "      <td>False</td>\n",
              "      <td>False</td>\n",
              "      <td>True</td>\n",
              "    </tr>\n",
              "    <tr>\n",
              "      <th>1</th>\n",
              "      <td>-2.0</td>\n",
              "      <td>840.0</td>\n",
              "      <td>208.0</td>\n",
              "      <td>0.0</td>\n",
              "      <td>0.0</td>\n",
              "      <td>8.0</td>\n",
              "      <td>88.0</td>\n",
              "      <td>0.0</td>\n",
              "      <td>0.23</td>\n",
              "      <td>50.000000</td>\n",
              "      <td>False</td>\n",
              "      <td>False</td>\n",
              "      <td>False</td>\n",
              "      <td>False</td>\n",
              "    </tr>\n",
              "    <tr>\n",
              "      <th>2</th>\n",
              "      <td>13.0</td>\n",
              "      <td>1852.0</td>\n",
              "      <td>442.0</td>\n",
              "      <td>22.0</td>\n",
              "      <td>2.6</td>\n",
              "      <td>25.0</td>\n",
              "      <td>1.4</td>\n",
              "      <td>6.4</td>\n",
              "      <td>0.53</td>\n",
              "      <td>22.666667</td>\n",
              "      <td>False</td>\n",
              "      <td>False</td>\n",
              "      <td>True</td>\n",
              "      <td>False</td>\n",
              "    </tr>\n",
              "    <tr>\n",
              "      <th>3</th>\n",
              "      <td>17.0</td>\n",
              "      <td>1926.0</td>\n",
              "      <td>460.0</td>\n",
              "      <td>24.0</td>\n",
              "      <td>6.0</td>\n",
              "      <td>31.0</td>\n",
              "      <td>1.4</td>\n",
              "      <td>6.4</td>\n",
              "      <td>0.48</td>\n",
              "      <td>16.250000</td>\n",
              "      <td>False</td>\n",
              "      <td>False</td>\n",
              "      <td>True</td>\n",
              "      <td>False</td>\n",
              "    </tr>\n",
              "    <tr>\n",
              "      <th>4</th>\n",
              "      <td>16.0</td>\n",
              "      <td>1953.0</td>\n",
              "      <td>467.0</td>\n",
              "      <td>25.0</td>\n",
              "      <td>6.1</td>\n",
              "      <td>29.0</td>\n",
              "      <td>2.5</td>\n",
              "      <td>6.3</td>\n",
              "      <td>0.45</td>\n",
              "      <td>16.250000</td>\n",
              "      <td>False</td>\n",
              "      <td>False</td>\n",
              "      <td>True</td>\n",
              "      <td>False</td>\n",
              "    </tr>\n",
              "  </tbody>\n",
              "</table>\n",
              "</div>\n",
              "    <div class=\"colab-df-buttons\">\n",
              "\n",
              "  <div class=\"colab-df-container\">\n",
              "    <button class=\"colab-df-convert\" onclick=\"convertToInteractive('df-8a8ac0e5-df49-4296-a260-da07cfd9714a')\"\n",
              "            title=\"Convert this dataframe to an interactive table.\"\n",
              "            style=\"display:none;\">\n",
              "\n",
              "  <svg xmlns=\"http://www.w3.org/2000/svg\" height=\"24px\" viewBox=\"0 -960 960 960\">\n",
              "    <path d=\"M120-120v-720h720v720H120Zm60-500h600v-160H180v160Zm220 220h160v-160H400v160Zm0 220h160v-160H400v160ZM180-400h160v-160H180v160Zm440 0h160v-160H620v160ZM180-180h160v-160H180v160Zm440 0h160v-160H620v160Z\"/>\n",
              "  </svg>\n",
              "    </button>\n",
              "\n",
              "  <style>\n",
              "    .colab-df-container {\n",
              "      display:flex;\n",
              "      gap: 12px;\n",
              "    }\n",
              "\n",
              "    .colab-df-convert {\n",
              "      background-color: #E8F0FE;\n",
              "      border: none;\n",
              "      border-radius: 50%;\n",
              "      cursor: pointer;\n",
              "      display: none;\n",
              "      fill: #1967D2;\n",
              "      height: 32px;\n",
              "      padding: 0 0 0 0;\n",
              "      width: 32px;\n",
              "    }\n",
              "\n",
              "    .colab-df-convert:hover {\n",
              "      background-color: #E2EBFA;\n",
              "      box-shadow: 0px 1px 2px rgba(60, 64, 67, 0.3), 0px 1px 3px 1px rgba(60, 64, 67, 0.15);\n",
              "      fill: #174EA6;\n",
              "    }\n",
              "\n",
              "    .colab-df-buttons div {\n",
              "      margin-bottom: 4px;\n",
              "    }\n",
              "\n",
              "    [theme=dark] .colab-df-convert {\n",
              "      background-color: #3B4455;\n",
              "      fill: #D2E3FC;\n",
              "    }\n",
              "\n",
              "    [theme=dark] .colab-df-convert:hover {\n",
              "      background-color: #434B5C;\n",
              "      box-shadow: 0px 1px 3px 1px rgba(0, 0, 0, 0.15);\n",
              "      filter: drop-shadow(0px 1px 2px rgba(0, 0, 0, 0.3));\n",
              "      fill: #FFFFFF;\n",
              "    }\n",
              "  </style>\n",
              "\n",
              "    <script>\n",
              "      const buttonEl =\n",
              "        document.querySelector('#df-8a8ac0e5-df49-4296-a260-da07cfd9714a button.colab-df-convert');\n",
              "      buttonEl.style.display =\n",
              "        google.colab.kernel.accessAllowed ? 'block' : 'none';\n",
              "\n",
              "      async function convertToInteractive(key) {\n",
              "        const element = document.querySelector('#df-8a8ac0e5-df49-4296-a260-da07cfd9714a');\n",
              "        const dataTable =\n",
              "          await google.colab.kernel.invokeFunction('convertToInteractive',\n",
              "                                                    [key], {});\n",
              "        if (!dataTable) return;\n",
              "\n",
              "        const docLinkHtml = 'Like what you see? Visit the ' +\n",
              "          '<a target=\"_blank\" href=https://colab.research.google.com/notebooks/data_table.ipynb>data table notebook</a>'\n",
              "          + ' to learn more about interactive tables.';\n",
              "        element.innerHTML = '';\n",
              "        dataTable['output_type'] = 'display_data';\n",
              "        await google.colab.output.renderOutput(dataTable, element);\n",
              "        const docLink = document.createElement('div');\n",
              "        docLink.innerHTML = docLinkHtml;\n",
              "        element.appendChild(docLink);\n",
              "      }\n",
              "    </script>\n",
              "  </div>\n",
              "\n",
              "\n",
              "<div id=\"df-25b94714-1e0e-4005-bd0d-6d390443f3ec\">\n",
              "  <button class=\"colab-df-quickchart\" onclick=\"quickchart('df-25b94714-1e0e-4005-bd0d-6d390443f3ec')\"\n",
              "            title=\"Suggest charts\"\n",
              "            style=\"display:none;\">\n",
              "\n",
              "<svg xmlns=\"http://www.w3.org/2000/svg\" height=\"24px\"viewBox=\"0 0 24 24\"\n",
              "     width=\"24px\">\n",
              "    <g>\n",
              "        <path d=\"M19 3H5c-1.1 0-2 .9-2 2v14c0 1.1.9 2 2 2h14c1.1 0 2-.9 2-2V5c0-1.1-.9-2-2-2zM9 17H7v-7h2v7zm4 0h-2V7h2v10zm4 0h-2v-4h2v4z\"/>\n",
              "    </g>\n",
              "</svg>\n",
              "  </button>\n",
              "\n",
              "<style>\n",
              "  .colab-df-quickchart {\n",
              "      --bg-color: #E8F0FE;\n",
              "      --fill-color: #1967D2;\n",
              "      --hover-bg-color: #E2EBFA;\n",
              "      --hover-fill-color: #174EA6;\n",
              "      --disabled-fill-color: #AAA;\n",
              "      --disabled-bg-color: #DDD;\n",
              "  }\n",
              "\n",
              "  [theme=dark] .colab-df-quickchart {\n",
              "      --bg-color: #3B4455;\n",
              "      --fill-color: #D2E3FC;\n",
              "      --hover-bg-color: #434B5C;\n",
              "      --hover-fill-color: #FFFFFF;\n",
              "      --disabled-bg-color: #3B4455;\n",
              "      --disabled-fill-color: #666;\n",
              "  }\n",
              "\n",
              "  .colab-df-quickchart {\n",
              "    background-color: var(--bg-color);\n",
              "    border: none;\n",
              "    border-radius: 50%;\n",
              "    cursor: pointer;\n",
              "    display: none;\n",
              "    fill: var(--fill-color);\n",
              "    height: 32px;\n",
              "    padding: 0;\n",
              "    width: 32px;\n",
              "  }\n",
              "\n",
              "  .colab-df-quickchart:hover {\n",
              "    background-color: var(--hover-bg-color);\n",
              "    box-shadow: 0 1px 2px rgba(60, 64, 67, 0.3), 0 1px 3px 1px rgba(60, 64, 67, 0.15);\n",
              "    fill: var(--button-hover-fill-color);\n",
              "  }\n",
              "\n",
              "  .colab-df-quickchart-complete:disabled,\n",
              "  .colab-df-quickchart-complete:disabled:hover {\n",
              "    background-color: var(--disabled-bg-color);\n",
              "    fill: var(--disabled-fill-color);\n",
              "    box-shadow: none;\n",
              "  }\n",
              "\n",
              "  .colab-df-spinner {\n",
              "    border: 2px solid var(--fill-color);\n",
              "    border-color: transparent;\n",
              "    border-bottom-color: var(--fill-color);\n",
              "    animation:\n",
              "      spin 1s steps(1) infinite;\n",
              "  }\n",
              "\n",
              "  @keyframes spin {\n",
              "    0% {\n",
              "      border-color: transparent;\n",
              "      border-bottom-color: var(--fill-color);\n",
              "      border-left-color: var(--fill-color);\n",
              "    }\n",
              "    20% {\n",
              "      border-color: transparent;\n",
              "      border-left-color: var(--fill-color);\n",
              "      border-top-color: var(--fill-color);\n",
              "    }\n",
              "    30% {\n",
              "      border-color: transparent;\n",
              "      border-left-color: var(--fill-color);\n",
              "      border-top-color: var(--fill-color);\n",
              "      border-right-color: var(--fill-color);\n",
              "    }\n",
              "    40% {\n",
              "      border-color: transparent;\n",
              "      border-right-color: var(--fill-color);\n",
              "      border-top-color: var(--fill-color);\n",
              "    }\n",
              "    60% {\n",
              "      border-color: transparent;\n",
              "      border-right-color: var(--fill-color);\n",
              "    }\n",
              "    80% {\n",
              "      border-color: transparent;\n",
              "      border-right-color: var(--fill-color);\n",
              "      border-bottom-color: var(--fill-color);\n",
              "    }\n",
              "    90% {\n",
              "      border-color: transparent;\n",
              "      border-bottom-color: var(--fill-color);\n",
              "    }\n",
              "  }\n",
              "</style>\n",
              "\n",
              "  <script>\n",
              "    async function quickchart(key) {\n",
              "      const quickchartButtonEl =\n",
              "        document.querySelector('#' + key + ' button');\n",
              "      quickchartButtonEl.disabled = true;  // To prevent multiple clicks.\n",
              "      quickchartButtonEl.classList.add('colab-df-spinner');\n",
              "      try {\n",
              "        const charts = await google.colab.kernel.invokeFunction(\n",
              "            'suggestCharts', [key], {});\n",
              "      } catch (error) {\n",
              "        console.error('Error during call to suggestCharts:', error);\n",
              "      }\n",
              "      quickchartButtonEl.classList.remove('colab-df-spinner');\n",
              "      quickchartButtonEl.classList.add('colab-df-quickchart-complete');\n",
              "    }\n",
              "    (() => {\n",
              "      let quickchartButtonEl =\n",
              "        document.querySelector('#df-25b94714-1e0e-4005-bd0d-6d390443f3ec button');\n",
              "      quickchartButtonEl.style.display =\n",
              "        google.colab.kernel.accessAllowed ? 'block' : 'none';\n",
              "    })();\n",
              "  </script>\n",
              "</div>\n",
              "\n",
              "    </div>\n",
              "  </div>\n"
            ],
            "application/vnd.google.colaboratory.intrinsic+json": {
              "type": "dataframe",
              "variable_name": "df"
            }
          },
          "metadata": {},
          "execution_count": 6
        }
      ]
    },
    {
      "cell_type": "markdown",
      "source": [
        "**Préparer les données pour prédire la variable nutriscore**"
      ],
      "metadata": {
        "id": "lnV3hX-wp8bu"
      }
    },
    {
      "cell_type": "code",
      "source": [
        "X = df.drop(\"nutriscore_score\", axis = 1)\n",
        "y = df[\"nutriscore_score\"]"
      ],
      "metadata": {
        "id": "36To1bzjNF1m"
      },
      "execution_count": 7,
      "outputs": []
    },
    {
      "cell_type": "markdown",
      "source": [
        "**Sépartion des données d'entrainnement et les données de test**"
      ],
      "metadata": {
        "id": "r0NCr0rrqL8Z"
      }
    },
    {
      "cell_type": "code",
      "source": [
        "from sklearn.model_selection import train_test_split\n",
        "X_train, X_test, y_train, y_test = train_test_split(X, y, test_size = 0.2,random_state=42)"
      ],
      "metadata": {
        "id": "uX_SKXy3NF4O"
      },
      "execution_count": 8,
      "outputs": []
    },
    {
      "cell_type": "markdown",
      "source": [
        "**Normalisation des données**"
      ],
      "metadata": {
        "id": "lkNfwRnzqahv"
      }
    },
    {
      "cell_type": "code",
      "source": [
        "from sklearn.preprocessing import MinMaxScaler\n",
        "scaler = MinMaxScaler()\n",
        "X_train_scaled = scaler.fit_transform(X_train)\n",
        "\n",
        "X_test_scaled = scaler.transform(X_test)"
      ],
      "metadata": {
        "id": "M9AKQwk_NF7v"
      },
      "execution_count": 9,
      "outputs": []
    },
    {
      "cell_type": "markdown",
      "source": [
        "**Un arbre de régression de type CART**"
      ],
      "metadata": {
        "id": "f8vFghQFqk9X"
      }
    },
    {
      "cell_type": "code",
      "source": [
        "from sklearn.tree import DecisionTreeRegressor\n",
        "Rtr = DecisionTreeRegressor()\n",
        "Rtr.fit(X_train_scaled,y_train)\n",
        "y_pred = Rtr .predict(X_test_scaled)"
      ],
      "metadata": {
        "id": "AAb3SC0cNXQi"
      },
      "execution_count": 10,
      "outputs": []
    },
    {
      "cell_type": "markdown",
      "source": [
        "**Evaluation du modèle**"
      ],
      "metadata": {
        "id": "yV048dAZqt1W"
      }
    },
    {
      "cell_type": "code",
      "source": [
        "from sklearn.metrics import mean_absolute_error, mean_squared_error, r2_score\n",
        "\n",
        "\n",
        "print(\"MAE:\", mean_absolute_error(y_test, y_pred))\n",
        "print(\"MSE:\", mean_squared_error(y_test, y_pred))\n",
        "print(\"R²:\", r2_score(y_test, y_pred))"
      ],
      "metadata": {
        "colab": {
          "base_uri": "https://localhost:8080/"
        },
        "id": "Ribml0UULpb7",
        "outputId": "bf456e6a-0add-4394-fad7-1f13c94f1f94"
      },
      "execution_count": 11,
      "outputs": [
        {
          "output_type": "stream",
          "name": "stdout",
          "text": [
            "MAE: 0.4113885833640339\n",
            "MSE: 0.990107309060656\n",
            "R²: 0.9871975021038673\n"
          ]
        }
      ]
    },
    {
      "cell_type": "markdown",
      "source": [
        "Ce modèle présente une une précision dans la prédiction des valeurs cibles grâce à une erreur moyenne absolue faible (0,41), une erreur absolue moyenne faible (0,99) et un R2 (0,98) trés elevé.\n"
      ],
      "metadata": {
        "id": "eK3C8TZNPPyl"
      }
    }
  ]
}