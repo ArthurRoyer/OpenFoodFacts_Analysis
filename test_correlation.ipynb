{
 "cells": [
  {
   "cell_type": "markdown",
   "id": "d4a1c762-a2be-4d7a-b545-474235685107",
   "metadata": {},
   "source": [
    "Des **tests de corrélation et en Analyce de Composantes Principales (ACP)** ont été effectué afin d'aider à affiner le modèle."
   ]
  },
  {
   "cell_type": "code",
   "execution_count": null,
   "id": "a99789f7-7039-416a-a3bf-418e6bcbebc1",
   "metadata": {},
   "outputs": [],
   "source": [
    "import pandas as pd\n",
    "\n",
    "df = pd.read_csv(\"cleaned_data.csv\", sep=',', on_bad_lines='skip', low_memory=False)\n",
    "\n",
    "df = df.drop(['pnns_groups_2','energy-kj_100g','code','nutrition-score-fr_100g','product_name','created_datetime','quantity','brands','categories','categories_en','pnns_groups_1','main_category_en','ingredients_text','countries_en','nutriscore_grade','product_name_lower','brands_lower'], axis = 1)\n",
    "\n"
   ]
  },
  {
   "cell_type": "markdown",
   "id": "f3b590dd-6e79-4e5d-88fc-0c8598ec4271",
   "metadata": {},
   "source": [
    "**On regarde la heatmap de corrélation entre variable**"
   ]
  },
  {
   "cell_type": "code",
   "execution_count": null,
   "id": "555e9dc8-2cf2-44d5-bd56-07af2de5df24",
   "metadata": {},
   "outputs": [],
   "source": [
    "import seaborn as sns\n",
    "import matplotlib.pyplot as plt\n",
    "import numpy as np\n",
    "import seaborn as sns\n",
    "\n",
    "# Calculer la matrice de corrélation\n",
    "correlation_matrix = df.corr()\n",
    "\n",
    "import pandas as pd\n",
    "\n",
    "# Calculer la matrice de corrélation\n",
    "correlation_matrix = df.corr()\n",
    "\n",
    "# Définir un seuil de corrélation\n",
    "threshold = 0.7\n",
    "\n",
    "# Parcourir chaque colonne de la matrice de corrélation\n",
    "for column in correlation_matrix.columns:\n",
    "    # Obtenir les corrélations pour la colonne actuelle\n",
    "    correlations = correlation_matrix[column]\n",
    "    \n",
    "    # Filtrer les corrélations supérieures à 0.7, en excluant la corrélation avec elle-même\n",
    "    high_correlations = correlations[correlations.abs() > threshold]\n",
    "    \n",
    "    # Si des corrélations sont trouvées, les imprimer\n",
    "    if not high_correlations.empty:\n",
    "        for other_column, value in high_correlations.items():\n",
    "            if other_column != column:  # Exclure la corrélation avec elle-même\n",
    "                print(f\"La corrélation entre la colonne '{column}' et la colonne '{other_column}' est de : {value:.2f}\")\n",
    "        print()  # Ligne vide pour séparer les colonnes\n"
   ]
  },
  {
   "cell_type": "markdown",
   "id": "c16be92d-31d4-471d-b5f1-c047f906e93b",
   "metadata": {},
   "source": [
    "**On suprime la colonne fat_100g**"
   ]
  },
  {
   "cell_type": "code",
   "execution_count": null,
   "id": "b2756d8b-7eff-48f7-ba1c-075dd821e827",
   "metadata": {},
   "outputs": [],
   "source": [
    "df=df.drop('fat_100g', axis = 1)"
   ]
  },
  {
   "cell_type": "markdown",
   "id": "ddf03dcf-c756-49dd-ac6c-b6693cdd4fec",
   "metadata": {},
   "source": [
    "**Analyse en composantes principales**"
   ]
  },
  {
   "cell_type": "code",
   "execution_count": null,
   "id": "0382b698-8537-40df-88da-bacac89fd08c",
   "metadata": {
    "scrolled": true
   },
   "outputs": [],
   "source": [
    "import pandas as pd\n",
    "import numpy as np\n",
    "import plotly.express as px\n",
    "import plotly.graph_objects as go\n",
    "from sklearn.decomposition import PCA\n",
    "from sklearn.preprocessing import StandardScaler\n",
    "\n",
    "\n",
    "# Sélectionner les colonnes numériques\n",
    "numeric_df = df.select_dtypes(include=[np.number])\n",
    "\n",
    "# Standardiser les données\n",
    "scaler = StandardScaler()\n",
    "scaled_data = scaler.fit_transform(numeric_df)\n",
    "\n",
    "# Appliquer l'ACP\n",
    "pca = PCA(n_components=5)\n",
    "pca_result = pca.fit_transform(scaled_data)\n",
    "\n"
   ]
  },
  {
   "cell_type": "code",
   "execution_count": null,
   "id": "1cc3b384-cd94-46be-8ef0-de5bf44e7bd7",
   "metadata": {},
   "outputs": [],
   "source": [
    "# Matrice de corrélation\n",
    "correlation_matrix = numeric_df.corr()\n",
    "plt.figure(figsize=(10, 8))\n",
    "sns.heatmap(correlation_matrix, annot=True, fmt=\".2f\", cmap='coolwarm', square=True, linewidths=.5)\n",
    "plt.title('Matrice de Corrélation')\n",
    "plt.show()"
   ]
  },
  {
   "cell_type": "markdown",
   "id": "816ba739-5fab-48a5-b21e-83e6cdf06824",
   "metadata": {},
   "source": [
    "**Convertir le résultat en DataFrame**"
   ]
  },
  {
   "cell_type": "code",
   "execution_count": null,
   "id": "ac5a6ff7-1800-4bb2-8941-449f2925347e",
   "metadata": {},
   "outputs": [],
   "source": [
    "pca_df = pd.DataFrame(data=pca_result, columns=[f'PC{i+1}' for i in range(5)])"
   ]
  },
  {
   "cell_type": "markdown",
   "id": "105be24b-21e0-478f-b11f-34494e57c3f2",
   "metadata": {},
   "source": [
    "**Visualiser les résultats pour les 2 premières composantes (PC1 vs PC2) avec Plotly**"
   ]
  },
  {
   "cell_type": "code",
   "execution_count": null,
   "id": "19803c75-c5ba-472c-964d-9f9ca636cbc3",
   "metadata": {},
   "outputs": [],
   "source": [
    "fig_2d = px.scatter(pca_df, x='PC1', y='PC2', title='ACP des données (PC1 vs PC2)',\n",
    "                    labels={'PC1': 'Première Composante Principale (PC1)', 'PC2': 'Deuxième Composante Principale (PC2)'},\n",
    "                    width=800, height=500)\n",
    "fig_2d.update_layout(xaxis=dict(zeroline=True), yaxis=dict(zeroline=True))\n",
    "fig_2d.show()"
   ]
  },
  {
   "cell_type": "markdown",
   "id": "aa2ae9b5-49ad-4f34-bef0-adb93a0cf69a",
   "metadata": {},
   "source": [
    "**Visualiser les résultats en 3D pour les 3 premières composantes avec Plotly**"
   ]
  },
  {
   "cell_type": "code",
   "execution_count": null,
   "id": "c9204eb0-4743-489f-9411-6514022c95e7",
   "metadata": {},
   "outputs": [],
   "source": [
    "fig_3d = px.scatter_3d(pca_df, x='PC1', y='PC2', z='PC3', title='ACP des données (PC1, PC2, PC3)',\n",
    "                       labels={'PC1': 'Première Composante Principale (PC1)',\n",
    "                               'PC2': 'Deuxième Composante Principale (PC2)',\n",
    "                               'PC3': 'Troisième Composante Principale (PC3)'})\n",
    "fig_3d.update_traces(marker=dict(size=5))\n",
    "fig_3d.show()"
   ]
  },
  {
   "cell_type": "markdown",
   "id": "a20e1851-830b-49dc-b571-e012c79cb7ec",
   "metadata": {},
   "source": [
    "**Variance expliquée par chaque composante sous forme de graphique interactif**"
   ]
  },
  {
   "cell_type": "code",
   "execution_count": null,
   "id": "261bb272-dd92-4bb0-815f-6bbbebcb6b3b",
   "metadata": {},
   "outputs": [],
   "source": [
    "explained_variance = pca.explained_variance_ratio_ "
   ]
  },
  {
   "cell_type": "markdown",
   "id": "d37f46ab-5666-4800-82b9-e52341866a10",
   "metadata": {},
   "source": [
    "**Créer un DataFrame pour la variance expliquée**"
   ]
  },
  {
   "cell_type": "code",
   "execution_count": null,
   "id": "791a4084-455b-4aeb-b49c-47158dd94a50",
   "metadata": {},
   "outputs": [],
   "source": [
    "variance_df = pd.DataFrame({\n",
    "    'Composante Principale': [f'PC{i+1}' for i in range(len(explained_variance))],\n",
    "    'Variance Expliquée': explained_variance\n",
    "})"
   ]
  },
  {
   "cell_type": "markdown",
   "id": "71a4bf05-5cdb-4d6e-8d38-6e77314e2ffa",
   "metadata": {},
   "source": [
    "**Variance expliquée par chaque composante**"
   ]
  },
  {
   "cell_type": "code",
   "execution_count": null,
   "id": "35610e01-2dcf-4400-ad0a-364a46ed48e1",
   "metadata": {},
   "outputs": [],
   "source": [
    "for i, variance in enumerate(explained_variance):\n",
    "    print(f\"Variance expliquée par la composante {i+1} : {variance:.2%}\")\n",
    "\n",
    "# Afficher la variance expliquée cumulée\n",
    "cumulative_variance = explained_variance.cumsum()\n",
    "print(f\"\\nVariance expliquée cumulée : {cumulative_variance}\")"
   ]
  },
  {
   "cell_type": "markdown",
   "id": "da46cc1e-53c0-449a-beae-1545e80ba079",
   "metadata": {},
   "source": [
    "**Créer un graphique à barres interactif pour visualiser la variance expliquée**"
   ]
  },
  {
   "cell_type": "code",
   "execution_count": null,
   "id": "21b578fa-4e13-493b-963a-9bfddd7d0115",
   "metadata": {},
   "outputs": [],
   "source": [
    "fig_variance = px.bar(variance_df, x='Composante Principale', y='Variance Expliquée',\n",
    "                      title='Variance expliquée par les composantes principales')\n",
    "fig_variance.show()"
   ]
  },
  {
   "cell_type": "markdown",
   "id": "e2695d42-988b-43e4-9036-89b7cd62d4bf",
   "metadata": {},
   "source": [
    "**Obtenir la matrice des charges et les afficher**"
   ]
  },
  {
   "cell_type": "code",
   "execution_count": null,
   "id": "d0773344-d840-49b7-a538-d6c37fbf3b45",
   "metadata": {},
   "outputs": [],
   "source": [
    "loadings = pca.components_\n",
    "\n",
    "# Créer un DataFrame pour afficher les charges (les contributions de chaque variable dans chaque PC)\n",
    "loadings_df = pd.DataFrame(loadings.T, columns=[f'PC{i+1}' for i in range(5)], index=df.columns)\n",
    "print(\"Matrice des charges :\\n\", loadings_df)"
   ]
  },
  {
   "cell_type": "code",
   "execution_count": null,
   "id": "0567b886-f375-4ef2-b955-eb1112b5f796",
   "metadata": {},
   "outputs": [],
   "source": [
    "!pip install prince"
   ]
  },
  {
   "cell_type": "markdown",
   "id": "e435a959-8390-4acd-8ad7-c681576fd7d6",
   "metadata": {},
   "source": [
    "**Calculer la corrélation de Spearman**"
   ]
  },
  {
   "cell_type": "code",
   "execution_count": null,
   "id": "53052909-d17f-4b60-b79d-757ee864d4cb",
   "metadata": {},
   "outputs": [],
   "source": [
    "import pandas as pd\n",
    "import numpy as np\n",
    "import matplotlib.pyplot as plt\n",
    "import networkx as nx\n",
    "\n",
    "correlation_spearman = df.corr(method='spearman')\n",
    "\n",
    "# Créer un graphique de réseau\n",
    "G = nx.DiGraph()\n",
    "\n",
    "# Ajouter des nœuds et des arêtes avec des poids (corrélations)\n",
    "for i in range(len(correlation_spearman.columns)):\n",
    "    for j in range(i):\n",
    "        if correlation_spearman.iloc[i, j] >= 0.5:  # seuil pour corrélation positive\n",
    "            G.add_edge(correlation_spearman.columns[i], correlation_spearman.columns[j],\n",
    "                       weight=correlation_spearman.iloc[i, j])\n",
    "        elif correlation_spearman.iloc[i, j] <= -0.5:  # seuil pour corrélation négative\n",
    "            G.add_edge(correlation_spearman.columns[i], correlation_spearman.columns[j],\n",
    "                       weight=correlation_spearman.iloc[i, j])\n",
    "\n",
    "# Visualiser le graphique\n",
    "pos = nx.spring_layout(G)  # Positions des nœuds\n",
    "weights = nx.get_edge_attributes(G, 'weight')\n",
    "\n",
    "# Tracer les nœuds\n",
    "nx.draw_networkx_nodes(G, pos, node_size=700)\n",
    "\n",
    "# Tracer les arêtes\n",
    "edges = nx.draw_networkx_edges(G, pos, arrowstyle='-|>', arrowsize=20,\n",
    "                                 edge_color=[1 if weight > 0 else -1 for weight in weights.values()],\n",
    "                                 width=2, alpha=0.5)\n",
    "\n",
    "# Ajouter des flèches et définir les couleurs\n",
    "for edge in G.edges(data=True):\n",
    "    if edge[2]['weight'] > 0:\n",
    "        nx.draw_networkx_edges(G, pos, edgelist=[edge], edge_color='b')\n",
    "    else:\n",
    "        nx.draw_networkx_edges(G, pos, edgelist=[edge], edge_color='r')\n",
    "\n",
    "# Tracer les étiquettes\n",
    "nx.draw_networkx_labels(G, pos)\n",
    "\n",
    "plt.title(\"Graphique de Réseau des Corrélations de Spearman\")\n",
    "plt.axis('off')  # Pas d'axes\n",
    "plt.show()"
   ]
  },
  {
   "cell_type": "code",
   "execution_count": null,
   "id": "6835d64d-193c-4282-b667-d951b48005d7",
   "metadata": {},
   "outputs": [],
   "source": [
    "import numpy as np\n",
    "import matplotlib.pyplot as plt\n",
    "from sklearn.decomposition import PCA\n",
    "from mpl_toolkits.mplot3d import Axes3D\n",
    "\n",
    "#Calcul de la matrice de corrélation\n",
    "correlation_matrix = df.corr()\n",
    "\n",
    "#Réduction des dimensions à 3D avec ACP pour garder la structure des corrélations\n",
    "pca = PCA(n_components=3)\n",
    "reduced_data = pca.fit_transform(correlation_matrix)\n",
    "\n",
    "#Initialisation du graphique en 3D\n",
    "fig = plt.figure(figsize=(10, 7))\n",
    "ax = fig.add_subplot(111, projection='3d')\n",
    "\n",
    "#Tracé des flèches pour chaque variable\n",
    "for i in range(reduced_data.shape[0]):\n",
    "    ax.quiver(0, 0, 0, \n",
    "              reduced_data[i, 0], reduced_data[i, 1], reduced_data[i, 2], \n",
    "              color='b', arrow_length_ratio=0.1)\n",
    "    ax.text(reduced_data[i, 0], reduced_data[i, 1], reduced_data[i, 2], \n",
    "            df.columns[i], color='r')\n",
    "\n",
    "# Ajustement du graphique\n",
    "ax.set_title(\"3D Correlation Vector Diagram\")\n",
    "ax.set_xlabel(\"PC1\")\n",
    "ax.set_ylabel(\"PC2\")\n",
    "ax.set_zlabel(\"PC3\")\n",
    "plt.show()"
   ]
  }
 ],
 "metadata": {
  "kernelspec": {
   "display_name": "Python 3 (ipykernel)",
   "language": "python",
   "name": "python3"
  },
  "language_info": {
   "codemirror_mode": {
    "name": "ipython",
    "version": 3
   },
   "file_extension": ".py",
   "mimetype": "text/x-python",
   "name": "python",
   "nbconvert_exporter": "python",
   "pygments_lexer": "ipython3",
   "version": "3.12.7"
  }
 },
 "nbformat": 4,
 "nbformat_minor": 5
}
